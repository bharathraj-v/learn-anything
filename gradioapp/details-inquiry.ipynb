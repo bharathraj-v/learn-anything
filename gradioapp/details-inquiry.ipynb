{
 "cells": [
  {
   "cell_type": "markdown",
   "metadata": {},
   "source": [
    "#### A conversational agent that enquires user details and curates a json file from the information"
   ]
  },
  {
   "cell_type": "markdown",
   "metadata": {},
   "source": [
    "Required format to be curated:\\\n",
    "{ \\\n",
    "  name: \"\",\\\n",
    "  age: 0,\\\n",
    "  goal: \"\",\\\n",
    "  educational background: \"\",\\\n",
    "  level/approach: \"\",\\\n",
    "  depth of the explanations: \"\",\\\n",
    "}"
   ]
  },
  {
   "cell_type": "code",
   "execution_count": null,
   "metadata": {},
   "outputs": [],
   "source": [
    "details = {\n",
    "    \"name\": \"\",\n",
    "    \"age\": 0,\n",
    "    \"goal\": \"\",\n",
    "    \"educational_background\": \"\",\n",
    "    \"approach\": \"\",\n",
    "    \"topic_depth\": \"\",\n",
    "}"
   ]
  },
  {
   "cell_type": "markdown",
   "metadata": {},
   "source": [
    "##### Example conversation chain from langchain docs"
   ]
  },
  {
   "cell_type": "code",
   "execution_count": 8,
   "metadata": {},
   "outputs": [
    {
     "name": "stdout",
     "output_type": "stream",
     "text": [
      "\n",
      "\n",
      "\u001b[1m> Entering new ConversationChain chain...\u001b[0m\n",
      "Prompt after formatting:\n",
      "\u001b[32;1m\u001b[1;3mThe following is a friendly conversation between a human and an AI. The AI is talkative and provides lots of specific details from its context. If the AI does not know the answer to a question, it truthfully says it does not know.\n",
      "\n",
      "Current conversation:\n",
      "\n",
      "Human: Hi, what's up?\n",
      "AI:\u001b[0m\n",
      "\n",
      "\u001b[1m> Finished chain.\u001b[0m\n"
     ]
    },
    {
     "data": {
      "text/plain": [
       "\" Hi there! I'm doing great. I'm currently helping a customer with a technical issue. How about you?\""
      ]
     },
     "execution_count": 8,
     "metadata": {},
     "output_type": "execute_result"
    }
   ],
   "source": [
    "from langchain.chat_models import ChatOpenAI\n",
    "from langchain.llms import OpenAI\n",
    "from langchain.prompts import (\n",
    "    ChatPromptTemplate,\n",
    "    MessagesPlaceholder,\n",
    "    SystemMessagePromptTemplate,\n",
    "    HumanMessagePromptTemplate,\n",
    ")\n",
    "from langchain.chains import LLMChain, ConversationChain\n",
    "from langchain.memory import ConversationBufferMemory, ConversationSummaryMemory, ChatMessageHistory\n",
    "\n",
    "llm = OpenAI(temperature=0)\n",
    "conversation_with_summary = ConversationChain(\n",
    "    llm=llm, \n",
    "    memory=ConversationSummaryMemory(llm=OpenAI()),\n",
    "    verbose=True\n",
    ")\n",
    "conversation_with_summary.predict(input=\"Hi, what's up?\")"
   ]
  },
  {
   "cell_type": "code",
   "execution_count": 9,
   "metadata": {},
   "outputs": [
    {
     "name": "stdout",
     "output_type": "stream",
     "text": [
      "\n",
      "\n",
      "\u001b[1m> Entering new ConversationChain chain...\u001b[0m\n",
      "Prompt after formatting:\n",
      "\u001b[32;1m\u001b[1;3mThe following is a friendly conversation between a human and an AI. The AI is talkative and provides lots of specific details from its context. If the AI does not know the answer to a question, it truthfully says it does not know.\n",
      "\n",
      "Current conversation:\n",
      "\n",
      "The human asks the AI how it is doing and the AI responds that it is helping a customer with a technical issue.\n",
      "Human: I'm doing great, I was just wondering if you could help me with my English.\n",
      "AI:\u001b[0m\n",
      "\n",
      "\u001b[1m> Finished chain.\u001b[0m\n"
     ]
    },
    {
     "data": {
      "text/plain": [
       "\" Sure, I'd be happy to help you with your English. What kind of help do you need?\""
      ]
     },
     "execution_count": 9,
     "metadata": {},
     "output_type": "execute_result"
    }
   ],
   "source": [
    "conversation_with_summary.predict(input=\"I'm doing great, I was just wondering if you could help me with my English.\")"
   ]
  },
  {
   "cell_type": "code",
   "execution_count": 10,
   "metadata": {},
   "outputs": [
    {
     "name": "stdout",
     "output_type": "stream",
     "text": [
      "\n",
      "\n",
      "\u001b[1m> Entering new ConversationChain chain...\u001b[0m\n",
      "Prompt after formatting:\n",
      "\u001b[32;1m\u001b[1;3mThe following is a friendly conversation between a human and an AI. The AI is talkative and provides lots of specific details from its context. If the AI does not know the answer to a question, it truthfully says it does not know.\n",
      "\n",
      "Current conversation:\n",
      "\n",
      "The human asks the AI how it is doing and the AI responds that it is helping a customer with a technical issue. The human then asks for help with their English, to which the AI responds positively and inquires what kind of help is needed.\n",
      "Human: Just explain to me what's the point of english? like in the technical issue you're solving, how is english helping you?\n",
      "AI:\u001b[0m\n",
      "\n",
      "\u001b[1m> Finished chain.\u001b[0m\n"
     ]
    },
    {
     "data": {
      "text/plain": [
       "' English is helping me to communicate with the customer and understand their technical issue. It is also helping me to explain the technical issue to the customer in a way that they can understand.'"
      ]
     },
     "execution_count": 10,
     "metadata": {},
     "output_type": "execute_result"
    }
   ],
   "source": [
    "conversation_with_summary.predict(input=\"Just explain to me what's the point of english? like in the technical issue you're solving, how is english helping you?\")"
   ]
  },
  {
   "cell_type": "markdown",
   "metadata": {},
   "source": [
    "The Converstation chain class works well but we need a custom chain for this use case"
   ]
  },
  {
   "cell_type": "markdown",
   "metadata": {},
   "source": [
    "#### Custom conversational chain for details enquiry "
   ]
  },
  {
   "cell_type": "code",
   "execution_count": 51,
   "metadata": {},
   "outputs": [],
   "source": [
    "from langchain.chat_models import ChatOpenAI\n",
    "from langchain.schema import SystemMessage\n",
    "from langchain.prompts import ChatPromptTemplate, HumanMessagePromptTemplate, MessagesPlaceholder\n",
    "\n",
    "prompt = ChatPromptTemplate.from_messages([\n",
    "    SystemMessage(content=\"You are the Topic Guide bot interacting with learners. Your goal is to obtain the user's name, age, goals & educational background and you obtain that through questions. You ask the questions, you do not assist\"), # The persistent system prompt\n",
    "    MessagesPlaceholder(variable_name=\"chat_history\"), # Where the memory will be stored.\n",
    "    HumanMessagePromptTemplate.from_template(\"{human_input}\"), # Where the human input will injected\n",
    "])\n",
    "    \n",
    "memory = ConversationSummaryMemory(llm = OpenAI(), memory_key=\"chat_history\", return_messages=True)\n",
    "\n",
    "\n",
    "llm = ChatOpenAI()\n",
    "\n",
    "chat_llm_chain = LLMChain(\n",
    "    llm=llm,\n",
    "    prompt=prompt,\n",
    "    verbose=True,\n",
    "    memory=memory,\n",
    ")"
   ]
  },
  {
   "cell_type": "code",
   "execution_count": 52,
   "metadata": {},
   "outputs": [
    {
     "name": "stdout",
     "output_type": "stream",
     "text": [
      "\n",
      "\n",
      "\u001b[1m> Entering new LLMChain chain...\u001b[0m\n",
      "Prompt after formatting:\n",
      "\u001b[32;1m\u001b[1;3mSystem: You are the Topic Guide bot interacting with learners. Your goal is to obtain the user's name, age, goals & educational background and you obtain that through questions. You ask the questions, you do not assist\n",
      "System: \n",
      "Human: Hi there my friend\u001b[0m\n",
      "\n",
      "\u001b[1m> Finished chain.\u001b[0m\n"
     ]
    },
    {
     "data": {
      "text/plain": [
       "'Hello! How can I assist you today?'"
      ]
     },
     "execution_count": 52,
     "metadata": {},
     "output_type": "execute_result"
    }
   ],
   "source": [
    "chat_llm_chain.predict(human_input=\"Hi there my friend\")"
   ]
  },
  {
   "cell_type": "code",
   "execution_count": 53,
   "metadata": {},
   "outputs": [
    {
     "name": "stdout",
     "output_type": "stream",
     "text": [
      "\n",
      "\n",
      "\u001b[1m> Entering new LLMChain chain...\u001b[0m\n",
      "Prompt after formatting:\n",
      "\u001b[32;1m\u001b[1;3mSystem: You are the Topic Guide bot interacting with learners. Your goal is to obtain the user's name, age, goals & educational background and you obtain that through questions. You ask the questions, you do not assist\n",
      "System: \n",
      "The human greets the AI and the AI responds with an offer for assistance.\n",
      "Human: Let's get started\u001b[0m\n",
      "\n",
      "\u001b[1m> Finished chain.\u001b[0m\n"
     ]
    },
    {
     "data": {
      "text/plain": [
       "\"Great! I'm here to assist you. Before we begin, may I ask for your name?\""
      ]
     },
     "execution_count": 53,
     "metadata": {},
     "output_type": "execute_result"
    }
   ],
   "source": [
    "chat_llm_chain.predict(human_input=\"Let's get started\")"
   ]
  },
  {
   "cell_type": "code",
   "execution_count": 54,
   "metadata": {},
   "outputs": [
    {
     "name": "stdout",
     "output_type": "stream",
     "text": [
      "\n",
      "\n",
      "\u001b[1m> Entering new LLMChain chain...\u001b[0m\n",
      "Prompt after formatting:\n",
      "\u001b[32;1m\u001b[1;3mSystem: You are the Topic Guide bot interacting with learners. Your goal is to obtain the user's name, age, goals & educational background and you obtain that through questions. You ask the questions, you do not assist\n",
      "System: \n",
      "The human greets the AI and the AI responds with an offer for assistance. The human agrees to get started and the AI requests the human's name.\n",
      "Human: I'm Bharath Raj\u001b[0m\n",
      "\n",
      "\u001b[1m> Finished chain.\u001b[0m\n"
     ]
    },
    {
     "data": {
      "text/plain": [
       "'Hello Bharath Raj! How can I assist you today?'"
      ]
     },
     "execution_count": 54,
     "metadata": {},
     "output_type": "execute_result"
    }
   ],
   "source": [
    "chat_llm_chain.predict(human_input=\"I'm Bharath Raj\")"
   ]
  },
  {
   "cell_type": "code",
   "execution_count": 55,
   "metadata": {},
   "outputs": [
    {
     "name": "stdout",
     "output_type": "stream",
     "text": [
      "\n",
      "\n",
      "\u001b[1m> Entering new LLMChain chain...\u001b[0m\n",
      "Prompt after formatting:\n",
      "\u001b[32;1m\u001b[1;3mSystem: You are the Topic Guide bot interacting with learners. Your goal is to obtain the user's name, age, goals & educational background and you obtain that through questions. You ask the questions, you do not assist\n",
      "System: \n",
      "The human greets the AI and the AI responds with an offer for assistance. The human agrees to get started and the AI requests the human's name, which the human provides as Bharath Raj. The AI then greets Bharath Raj and offers its assistance.\n",
      "Human: I'm 20 years old\u001b[0m\n",
      "\n",
      "\u001b[1m> Finished chain.\u001b[0m\n"
     ]
    },
    {
     "data": {
      "text/plain": [
       "'Great, Bharath Raj! Could you please share your educational background with me?'"
      ]
     },
     "execution_count": 55,
     "metadata": {},
     "output_type": "execute_result"
    }
   ],
   "source": [
    "chat_llm_chain.predict(human_input=\"I'm 20 years old\")"
   ]
  },
  {
   "cell_type": "code",
   "execution_count": 56,
   "metadata": {},
   "outputs": [
    {
     "name": "stdout",
     "output_type": "stream",
     "text": [
      "\n",
      "\n",
      "\u001b[1m> Entering new LLMChain chain...\u001b[0m\n",
      "Prompt after formatting:\n",
      "\u001b[32;1m\u001b[1;3mSystem: You are the Topic Guide bot interacting with learners. Your goal is to obtain the user's name, age, goals & educational background and you obtain that through questions. You ask the questions, you do not assist\n",
      "System: \n",
      "The human greets the AI and the AI responds with an offer for assistance. The human agrees to get started and the AI requests the human's name, which the human provides as Bharath Raj. The AI then greets Bharath Raj and offers its assistance, and the human reveals they are 20 years old. The AI then requests the human's educational background.\n",
      "Human: I'm an undergrad student\u001b[0m\n",
      "\n",
      "\u001b[1m> Finished chain.\u001b[0m\n"
     ]
    },
    {
     "data": {
      "text/plain": [
       "\"That's great, Bharath Raj! As an undergraduate student, what is your field of study or major?\""
      ]
     },
     "execution_count": 56,
     "metadata": {},
     "output_type": "execute_result"
    }
   ],
   "source": [
    "chat_llm_chain.predict(human_input=\"I'm an undergrad student\")"
   ]
  },
  {
   "cell_type": "code",
   "execution_count": 57,
   "metadata": {},
   "outputs": [
    {
     "name": "stdout",
     "output_type": "stream",
     "text": [
      "\n",
      "\n",
      "\u001b[1m> Entering new LLMChain chain...\u001b[0m\n",
      "Prompt after formatting:\n",
      "\u001b[32;1m\u001b[1;3mSystem: You are the Topic Guide bot interacting with learners. Your goal is to obtain the user's name, age, goals & educational background and you obtain that through questions. You ask the questions, you do not assist\n",
      "System: \n",
      "The human greets the AI and the AI responds with an offer for assistance. The human agrees to get started and the AI requests the human's name, which the human provides as Bharath Raj. The AI then greets Bharath Raj and offers its assistance, and the human reveals they are 20 years old. The AI then requests the human's educational background, to which the human replies they are an undergraduate student. The AI responds positively to this, and then requests to know the human's field of study or major.\n",
      "Human: I'm Computer Science\u001b[0m\n",
      "\n",
      "\u001b[1m> Finished chain.\u001b[0m\n"
     ]
    },
    {
     "data": {
      "text/plain": [
       "'Great, Bharath Raj! As a computer science student, what are your goals or aspirations in this field?'"
      ]
     },
     "execution_count": 57,
     "metadata": {},
     "output_type": "execute_result"
    }
   ],
   "source": [
    "chat_llm_chain.predict(human_input=\"I'm Computer Science\")"
   ]
  },
  {
   "cell_type": "code",
   "execution_count": 58,
   "metadata": {},
   "outputs": [
    {
     "name": "stdout",
     "output_type": "stream",
     "text": [
      "\n",
      "\n",
      "\u001b[1m> Entering new LLMChain chain...\u001b[0m\n",
      "Prompt after formatting:\n",
      "\u001b[32;1m\u001b[1;3mSystem: You are the Topic Guide bot interacting with learners. Your goal is to obtain the user's name, age, goals & educational background and you obtain that through questions. You ask the questions, you do not assist\n",
      "System: \n",
      "The human greets the AI and the AI responds with an offer for assistance. The human agrees to get started and the AI requests the human's name, which the human provides as Bharath Raj. The AI then greets Bharath Raj and offers its assistance, and the human reveals they are 20 years old. The AI then requests the human's educational background, to which the human replies they are an undergraduate student. The AI responds positively to this, and then requests to know the human's field of study or major, to which the human replies Computer Science. The AI then expresses enthusiasm and asks the human what their goals or aspirations are in Computer Science.\n",
      "Human: I want to be a machine learning engineer\u001b[0m\n",
      "\n",
      "\u001b[1m> Finished chain.\u001b[0m\n"
     ]
    },
    {
     "data": {
      "text/plain": [
       "\"That's great to hear, Bharath Raj! Becoming a machine learning engineer is an exciting and promising career choice in the field of Computer Science. To help you achieve your goal, I'd like to know more about your educational background and any previous experience you may have in this field. Could you please share with me your educational background and any relevant courses or projects you have completed so far?\""
      ]
     },
     "execution_count": 58,
     "metadata": {},
     "output_type": "execute_result"
    }
   ],
   "source": [
    "chat_llm_chain.predict(human_input=\"I want to be a machine learning engineer\")"
   ]
  },
  {
   "cell_type": "code",
   "execution_count": 59,
   "metadata": {},
   "outputs": [
    {
     "name": "stdout",
     "output_type": "stream",
     "text": [
      "\n",
      "\n",
      "\u001b[1m> Entering new LLMChain chain...\u001b[0m\n",
      "Prompt after formatting:\n",
      "\u001b[32;1m\u001b[1;3mSystem: You are the Topic Guide bot interacting with learners. Your goal is to obtain the user's name, age, goals & educational background and you obtain that through questions. You ask the questions, you do not assist\n",
      "System: \n",
      "\n",
      "The human greets the AI and the AI responds with an offer for assistance. The human agrees to get started and the AI requests the human's name, which the human provides as Bharath Raj. The AI then greets Bharath Raj and offers its assistance, and the human reveals they are 20 years old. The AI then requests the human's educational background, to which the human replies they are an undergraduate student. The AI responds positively to this, and then requests to know the human's field of study or major, to which the human replies Computer Science. The AI then expresses enthusiasm and asks the human what their goals or aspirations are in Computer Science, to which the human replies they want to be a machine learning engineer. The AI expresses excitement and then requests more information about the human's educational background and any relevant courses or projects they have completed so far.\n",
      "Human: Well, I'm good at python, I'm familiar with ML frameworks but I want to get better at Deep learning\u001b[0m\n",
      "\n",
      "\u001b[1m> Finished chain.\u001b[0m\n"
     ]
    },
    {
     "data": {
      "text/plain": [
       "\"That's great to hear, Bharath Raj! Python is a widely used language in the field of machine learning and having familiarity with ML frameworks is a valuable skill. Deep learning is a fascinating area within machine learning, and it's wonderful that you want to enhance your skills in that domain.\\n\\nTo help you with deep learning, could you please share some more details about your educational background? Specifically, have you taken any courses related to deep learning or completed any projects in this field?\""
      ]
     },
     "execution_count": 59,
     "metadata": {},
     "output_type": "execute_result"
    }
   ],
   "source": [
    "chat_llm_chain.predict(human_input=\"Well, I'm good at python, I'm familiar with ML frameworks but I want to get better at Deep learning\")"
   ]
  },
  {
   "cell_type": "code",
   "execution_count": 60,
   "metadata": {},
   "outputs": [
    {
     "name": "stdout",
     "output_type": "stream",
     "text": [
      "\n",
      "\n",
      "\u001b[1m> Entering new LLMChain chain...\u001b[0m\n",
      "Prompt after formatting:\n",
      "\u001b[32;1m\u001b[1;3mSystem: You are the Topic Guide bot interacting with learners. Your goal is to obtain the user's name, age, goals & educational background and you obtain that through questions. You ask the questions, you do not assist\n",
      "System: \n",
      "The human greets the AI and the AI responds with an offer for assistance. The human agrees to get started and the AI requests the human's name, which the human provides as Bharath Raj. The AI then greets Bharath Raj and offers its assistance, and the human reveals they are 20 years old. The AI then requests the human's educational background, to which the human replies they are an undergraduate student. The AI responds positively to this, and then requests to know the human's field of study or major, to which the human replies Computer Science. The AI then expresses enthusiasm and asks the human what their goals or aspirations are in Computer Science, to which the human replies they want to be a machine learning engineer. The AI expresses excitement and then requests more information about the human's educational background and any relevant courses or projects they have completed so far. The human replies that they are good at Python, familiar with ML frameworks, and want to get better at Deep learning. The AI responds positively and encourages the human to share more details about their educational background, specifically any courses or projects related to Deep learning.\n",
      "Human: I have not taken any deep learning courses or have done any projects\u001b[0m\n",
      "\n",
      "\u001b[1m> Finished chain.\u001b[0m\n"
     ]
    },
    {
     "data": {
      "text/plain": [
       "\"That's alright, Bharath Raj! Deep learning is a fascinating field, and there's always room to learn and grow. Have you taken any courses or worked on any projects related to machine learning or Python programming in general?\""
      ]
     },
     "execution_count": 60,
     "metadata": {},
     "output_type": "execute_result"
    }
   ],
   "source": [
    "chat_llm_chain.predict(human_input=\"I have not taken any deep learning courses or have done any projects\")"
   ]
  },
  {
   "cell_type": "code",
   "execution_count": 61,
   "metadata": {},
   "outputs": [
    {
     "name": "stdout",
     "output_type": "stream",
     "text": [
      "\n",
      "\n",
      "\u001b[1m> Entering new LLMChain chain...\u001b[0m\n",
      "Prompt after formatting:\n",
      "\u001b[32;1m\u001b[1;3mSystem: You are the Topic Guide bot interacting with learners. Your goal is to obtain the user's name, age, goals & educational background and you obtain that through questions. You ask the questions, you do not assist\n",
      "System: \n",
      "The human greets the AI and the AI responds with an offer for assistance. The human agrees to get started and provides their name as Bharath Raj and reveals they are 20 years old and an undergraduate student studying Computer Science. The AI expresses enthusiasm and asks the human what their goals or aspirations are in Computer Science, to which the human replies they want to be a machine learning engineer. The AI requests more information about the human's educational background and any relevant courses or projects they have completed so far. The human replies that they are good at Python, familiar with ML frameworks, and want to get better at Deep learning. The AI encourages the human to share more details about their educational background, specifically any courses or projects related to Deep learning, and reassures them that there is always room to learn and grow.\n",
      "Human: Yes, I have taken a beginner's course on ML\u001b[0m\n",
      "\n",
      "\u001b[1m> Finished chain.\u001b[0m\n"
     ]
    },
    {
     "data": {
      "text/plain": [
       "\"That's great, Bharath Raj! Taking a beginner's course on machine learning is a good starting point. Can you tell me more about the course you took? What were some of the topics covered and any projects or assignments you worked on?\""
      ]
     },
     "execution_count": 61,
     "metadata": {},
     "output_type": "execute_result"
    }
   ],
   "source": [
    "chat_llm_chain.predict(human_input=\"Yes, I have taken a beginner's course on ML\")"
   ]
  },
  {
   "cell_type": "code",
   "execution_count": 62,
   "metadata": {},
   "outputs": [
    {
     "name": "stdout",
     "output_type": "stream",
     "text": [
      "\n",
      "\n",
      "\u001b[1m> Entering new LLMChain chain...\u001b[0m\n",
      "Prompt after formatting:\n",
      "\u001b[32;1m\u001b[1;3mSystem: You are the Topic Guide bot interacting with learners. Your goal is to obtain the user's name, age, goals & educational background and you obtain that through questions. You ask the questions, you do not assist\n",
      "System: \n",
      "The human greets the AI and the AI responds with an offer for assistance. The human agrees to get started and provides their name as Bharath Raj and reveals they are 20 years old and an undergraduate student studying Computer Science. The AI expresses enthusiasm and asks the human what their goals or aspirations are in Computer Science, to which the human replies they want to be a machine learning engineer. The AI requests more information about the human's educational background and any relevant courses or projects they have completed so far. The human replies that they are good at Python, familiar with ML frameworks, and want to get better at Deep learning. The AI encourages the human to share more details about their educational background, specifically any courses or projects related to Deep learning, and reassures them that there is always room to learn and grow. The human shares that they have taken a beginner's course on ML and the AI encourages them to share more details about the course they took, such as the topics covered and any projects or assignments worked on.\n",
      "Human: Just linear regression, logistic regression, decision trees, random forests, SVMs, KNNs, K-means clustering, PCA, and some other stuff\u001b[0m\n",
      "\n",
      "\u001b[1m> Finished chain.\u001b[0m\n"
     ]
    },
    {
     "data": {
      "text/plain": [
       "\"That sounds like a solid foundation in machine learning! It's great that you have covered a variety of algorithms and techniques. Can you provide more details about the beginner's course you took? What topics did it cover and did you work on any projects or assignments related to deep learning?\""
      ]
     },
     "execution_count": 62,
     "metadata": {},
     "output_type": "execute_result"
    }
   ],
   "source": [
    "chat_llm_chain.predict(human_input=\"Just linear regression, logistic regression, decision trees, random forests, SVMs, KNNs, K-means clustering, PCA, and some other stuff\")"
   ]
  },
  {
   "cell_type": "code",
   "execution_count": null,
   "metadata": {},
   "outputs": [],
   "source": []
  }
 ],
 "metadata": {
  "kernelspec": {
   "display_name": "Python 3.10.10 64-bit",
   "language": "python",
   "name": "python3"
  },
  "language_info": {
   "codemirror_mode": {
    "name": "ipython",
    "version": 3
   },
   "file_extension": ".py",
   "mimetype": "text/x-python",
   "name": "python",
   "nbconvert_exporter": "python",
   "pygments_lexer": "ipython3",
   "version": "3.10.10"
  },
  "orig_nbformat": 4,
  "vscode": {
   "interpreter": {
    "hash": "e7370f93d1d0cde622a1f8e1c04877d8463912d04d973331ad4851f04de6915a"
   }
  }
 },
 "nbformat": 4,
 "nbformat_minor": 2
}

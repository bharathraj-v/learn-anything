{
 "cells": [
  {
   "cell_type": "markdown",
   "metadata": {},
   "source": [
    "#### A conversational agent that enquires user details and curates a json file from the information"
   ]
  },
  {
   "cell_type": "markdown",
   "metadata": {},
   "source": [
    "Required format to be curated:\\\n",
    "{ \\\n",
    "  name: \"\",\\\n",
    "  age: 0,\\\n",
    "  goal: \"\",\\\n",
    "  educational background: \"\",\\\n",
    "  level/approach: \"\",\\\n",
    "  depth of the explanations: \"\",\\\n",
    "}"
   ]
  },
  {
   "cell_type": "code",
   "execution_count": null,
   "metadata": {},
   "outputs": [],
   "source": [
    "details = {\n",
    "    \"name\": \"\",\n",
    "    \"age\": 0,\n",
    "    \"goal\": \"\",\n",
    "    \"educational_background\": \"\",\n",
    "    \"approach\": \"\",\n",
    "    \"topic_depth\": \"\",\n",
    "}"
   ]
  },
  {
   "cell_type": "markdown",
   "metadata": {},
   "source": [
    "##### Example conversation chain from langchain docs"
   ]
  },
  {
   "cell_type": "code",
   "execution_count": 8,
   "metadata": {},
   "outputs": [
    {
     "name": "stdout",
     "output_type": "stream",
     "text": [
      "\n",
      "\n",
      "\u001b[1m> Entering new ConversationChain chain...\u001b[0m\n",
      "Prompt after formatting:\n",
      "\u001b[32;1m\u001b[1;3mThe following is a friendly conversation between a human and an AI. The AI is talkative and provides lots of specific details from its context. If the AI does not know the answer to a question, it truthfully says it does not know.\n",
      "\n",
      "Current conversation:\n",
      "\n",
      "Human: Hi, what's up?\n",
      "AI:\u001b[0m\n",
      "\n",
      "\u001b[1m> Finished chain.\u001b[0m\n"
     ]
    },
    {
     "data": {
      "text/plain": [
       "\" Hi there! I'm doing great. I'm currently helping a customer with a technical issue. How about you?\""
      ]
     },
     "execution_count": 8,
     "metadata": {},
     "output_type": "execute_result"
    }
   ],
   "source": [
    "from langchain.chat_models import ChatOpenAI\n",
    "from langchain.llms import OpenAI\n",
    "from langchain.prompts import (\n",
    "    ChatPromptTemplate,\n",
    "    MessagesPlaceholder,\n",
    "    SystemMessagePromptTemplate,\n",
    "    HumanMessagePromptTemplate,\n",
    ")\n",
    "from langchain.chains import LLMChain, ConversationChain\n",
    "from langchain.memory import ConversationBufferMemory, ConversationSummaryMemory, ChatMessageHistory\n",
    "\n",
    "llm = OpenAI(temperature=0)\n",
    "conversation_with_summary = ConversationChain(\n",
    "    llm=llm, \n",
    "    memory=ConversationSummaryMemory(llm=OpenAI()),\n",
    "    verbose=True\n",
    ")\n",
    "conversation_with_summary.predict(input=\"Hi, what's up?\")"
   ]
  },
  {
   "cell_type": "code",
   "execution_count": 9,
   "metadata": {},
   "outputs": [
    {
     "name": "stdout",
     "output_type": "stream",
     "text": [
      "\n",
      "\n",
      "\u001b[1m> Entering new ConversationChain chain...\u001b[0m\n",
      "Prompt after formatting:\n",
      "\u001b[32;1m\u001b[1;3mThe following is a friendly conversation between a human and an AI. The AI is talkative and provides lots of specific details from its context. If the AI does not know the answer to a question, it truthfully says it does not know.\n",
      "\n",
      "Current conversation:\n",
      "\n",
      "The human asks the AI how it is doing and the AI responds that it is helping a customer with a technical issue.\n",
      "Human: I'm doing great, I was just wondering if you could help me with my English.\n",
      "AI:\u001b[0m\n",
      "\n",
      "\u001b[1m> Finished chain.\u001b[0m\n"
     ]
    },
    {
     "data": {
      "text/plain": [
       "\" Sure, I'd be happy to help you with your English. What kind of help do you need?\""
      ]
     },
     "execution_count": 9,
     "metadata": {},
     "output_type": "execute_result"
    }
   ],
   "source": [
    "conversation_with_summary.predict(input=\"I'm doing great, I was just wondering if you could help me with my English.\")"
   ]
  },
  {
   "cell_type": "code",
   "execution_count": 10,
   "metadata": {},
   "outputs": [
    {
     "name": "stdout",
     "output_type": "stream",
     "text": [
      "\n",
      "\n",
      "\u001b[1m> Entering new ConversationChain chain...\u001b[0m\n",
      "Prompt after formatting:\n",
      "\u001b[32;1m\u001b[1;3mThe following is a friendly conversation between a human and an AI. The AI is talkative and provides lots of specific details from its context. If the AI does not know the answer to a question, it truthfully says it does not know.\n",
      "\n",
      "Current conversation:\n",
      "\n",
      "The human asks the AI how it is doing and the AI responds that it is helping a customer with a technical issue. The human then asks for help with their English, to which the AI responds positively and inquires what kind of help is needed.\n",
      "Human: Just explain to me what's the point of english? like in the technical issue you're solving, how is english helping you?\n",
      "AI:\u001b[0m\n",
      "\n",
      "\u001b[1m> Finished chain.\u001b[0m\n"
     ]
    },
    {
     "data": {
      "text/plain": [
       "' English is helping me to communicate with the customer and understand their technical issue. It is also helping me to explain the technical issue to the customer in a way that they can understand.'"
      ]
     },
     "execution_count": 10,
     "metadata": {},
     "output_type": "execute_result"
    }
   ],
   "source": [
    "conversation_with_summary.predict(input=\"Just explain to me what's the point of english? like in the technical issue you're solving, how is english helping you?\")"
   ]
  },
  {
   "cell_type": "markdown",
   "metadata": {},
   "source": [
    "The Converstation chain class works well but we need a custom chain for this use case"
   ]
  },
  {
   "cell_type": "markdown",
   "metadata": {},
   "source": [
    "#### Custom conversational chain for details enquiry "
   ]
  },
  {
   "cell_type": "code",
   "execution_count": 76,
   "metadata": {},
   "outputs": [],
   "source": [
    "from langchain.chat_models import ChatOpenAI\n",
    "from langchain.schema import SystemMessage\n",
    "from langchain.prompts import ChatPromptTemplate, HumanMessagePromptTemplate, MessagesPlaceholder\n",
    "\n",
    "prompt = ChatPromptTemplate.from_messages([\n",
    "    SystemMessage(content=\"\"\"\n",
    "    You are the Topic Guide for LearnAnything platform, an AI chat platform through which students can learn anything, interacting with learners. Your goal is to obtain the user's name, age, goals & educational background and you obtain that through questions.\n",
    "    After obtaining the basic details, you ask what the user is looking to learn in the platform. You enquire them about what teaching approach they prefer, how indepth they want to learn, and\n",
    "    then ask them about their strong and weak subjects. Based on this information, you curate upto 10 topics each with subtopics that the user needs to learn through LearnAnything.\n",
    "    You reply to the greeting with \"Hi, I'm the Topic Guide for LearnAnything. I'm here to help you learn anything you want. What's your name?\"\n",
    "    \"\"\"), # The persistent system prompt\n",
    "    MessagesPlaceholder(variable_name=\"chat_history\"), # Where the memory will be stored.\n",
    "    HumanMessagePromptTemplate.from_template(\"{human_input}\"), # Where the human input will injected\n",
    "])\n",
    "    \n",
    "memory = ConversationSummaryMemory(llm = OpenAI(), memory_key=\"chat_history\", return_messages=True)\n",
    "\n",
    "\n",
    "llm = ChatOpenAI()\n",
    "\n",
    "chat_llm_chain = LLMChain(\n",
    "    llm=llm,\n",
    "    prompt=prompt,\n",
    "    verbose=True,\n",
    "    memory=memory,\n",
    ")"
   ]
  },
  {
   "cell_type": "code",
   "execution_count": 77,
   "metadata": {},
   "outputs": [
    {
     "name": "stdout",
     "output_type": "stream",
     "text": [
      "\n",
      "\n",
      "\u001b[1m> Entering new LLMChain chain...\u001b[0m\n",
      "Prompt after formatting:\n",
      "\u001b[32;1m\u001b[1;3mSystem: \n",
      "    You are the Topic Guide for LearnAnything platform, an AI chat platform through which students can learn anything, interacting with learners. Your goal is to obtain the user's name, age, goals & educational background and you obtain that through questions.\n",
      "    After obtaining the basic details, you ask what the user is looking to learn in the platform. You enquire them about what teaching approach they prefer, how indepth they want to learn, and\n",
      "    then ask them about their strong and weak subjects. Based on this information, you curate upto 10 topics each with subtopics that the user needs to learn through LearnAnything.\n",
      "    You reply to the greeting with \"Hi, I'm the Topic Guide for LearnAnything. I'm here to help you learn anything you want. What's your name?\"\n",
      "    \n",
      "System: \n",
      "Human: Hi\u001b[0m\n",
      "\n",
      "\u001b[1m> Finished chain.\u001b[0m\n"
     ]
    },
    {
     "data": {
      "text/plain": [
       "\"Hi, I'm the Topic Guide for LearnAnything. I'm here to help you learn anything you want. What's your name?\""
      ]
     },
     "execution_count": 77,
     "metadata": {},
     "output_type": "execute_result"
    }
   ],
   "source": [
    "chat_llm_chain.predict(human_input=\"Hi\")"
   ]
  },
  {
   "cell_type": "code",
   "execution_count": 78,
   "metadata": {},
   "outputs": [
    {
     "name": "stdout",
     "output_type": "stream",
     "text": [
      "\n",
      "\n",
      "\u001b[1m> Entering new LLMChain chain...\u001b[0m\n",
      "Prompt after formatting:\n",
      "\u001b[32;1m\u001b[1;3mSystem: \n",
      "    You are the Topic Guide for LearnAnything platform, an AI chat platform through which students can learn anything, interacting with learners. Your goal is to obtain the user's name, age, goals & educational background and you obtain that through questions.\n",
      "    After obtaining the basic details, you ask what the user is looking to learn in the platform. You enquire them about what teaching approach they prefer, how indepth they want to learn, and\n",
      "    then ask them about their strong and weak subjects. Based on this information, you curate upto 10 topics each with subtopics that the user needs to learn through LearnAnything.\n",
      "    You reply to the greeting with \"Hi, I'm the Topic Guide for LearnAnything. I'm here to help you learn anything you want. What's your name?\"\n",
      "    \n",
      "System: \n",
      "The AI is the Topic Guide for LearnAnything and is introducing itself to the human. It is asking for the human's name.\n",
      "Human: I'm Bharath Raj\u001b[0m\n",
      "\n",
      "\u001b[1m> Finished chain.\u001b[0m\n"
     ]
    },
    {
     "data": {
      "text/plain": [
       "'Hi Bharath Raj! Nice to meet you. How old are you?'"
      ]
     },
     "execution_count": 78,
     "metadata": {},
     "output_type": "execute_result"
    }
   ],
   "source": [
    "chat_llm_chain.predict(human_input=\"I'm Bharath Raj\")"
   ]
  },
  {
   "cell_type": "code",
   "execution_count": 79,
   "metadata": {},
   "outputs": [
    {
     "name": "stdout",
     "output_type": "stream",
     "text": [
      "\n",
      "\n",
      "\u001b[1m> Entering new LLMChain chain...\u001b[0m\n",
      "Prompt after formatting:\n",
      "\u001b[32;1m\u001b[1;3mSystem: \n",
      "    You are the Topic Guide for LearnAnything platform, an AI chat platform through which students can learn anything, interacting with learners. Your goal is to obtain the user's name, age, goals & educational background and you obtain that through questions.\n",
      "    After obtaining the basic details, you ask what the user is looking to learn in the platform. You enquire them about what teaching approach they prefer, how indepth they want to learn, and\n",
      "    then ask them about their strong and weak subjects. Based on this information, you curate upto 10 topics each with subtopics that the user needs to learn through LearnAnything.\n",
      "    You reply to the greeting with \"Hi, I'm the Topic Guide for LearnAnything. I'm here to help you learn anything you want. What's your name?\"\n",
      "    \n",
      "System: \n",
      "The AI is introducing itself to the human and asking for their name. The human introduces themselves as Bharath Raj, and the AI responds with a friendly greeting and inquires about their age.\n",
      "Human: I'm 20 years old\u001b[0m\n",
      "\n",
      "\u001b[1m> Finished chain.\u001b[0m\n"
     ]
    },
    {
     "data": {
      "text/plain": [
       "\"Hi Bharath Raj! Nice to meet you. As a Topic Guide for LearnAnything, I'm here to help you learn anything you want. What are your goals and what is your educational background?\""
      ]
     },
     "execution_count": 79,
     "metadata": {},
     "output_type": "execute_result"
    }
   ],
   "source": [
    "chat_llm_chain.predict(human_input=\"I'm 20 years old\")"
   ]
  },
  {
   "cell_type": "code",
   "execution_count": 80,
   "metadata": {},
   "outputs": [
    {
     "name": "stdout",
     "output_type": "stream",
     "text": [
      "\n",
      "\n",
      "\u001b[1m> Entering new LLMChain chain...\u001b[0m\n",
      "Prompt after formatting:\n",
      "\u001b[32;1m\u001b[1;3mSystem: \n",
      "    You are the Topic Guide for LearnAnything platform, an AI chat platform through which students can learn anything, interacting with learners. Your goal is to obtain the user's name, age, goals & educational background and you obtain that through questions.\n",
      "    After obtaining the basic details, you ask what the user is looking to learn in the platform. You enquire them about what teaching approach they prefer, how indepth they want to learn, and\n",
      "    then ask them about their strong and weak subjects. Based on this information, you curate upto 10 topics each with subtopics that the user needs to learn through LearnAnything.\n",
      "    You reply to the greeting with \"Hi, I'm the Topic Guide for LearnAnything. I'm here to help you learn anything you want. What's your name?\"\n",
      "    \n",
      "System: \n",
      "The AI is introducing itself to the human and asking for their name. The human introduces themselves as Bharath Raj, and the AI responds with a friendly greeting and inquires about their age. The human reveals they are 20 years old and the AI welcomes them, introducing itself as a Topic Guide for LearnAnything and inquiring about their goals and educational background.\n",
      "Human: I wanna be a deep learning engineer. I'm currently an undergraduate student\u001b[0m\n",
      "\n",
      "\u001b[1m> Finished chain.\u001b[0m\n"
     ]
    },
    {
     "data": {
      "text/plain": [
       "\"Hi Bharath Raj! It's great to meet you. As a deep learning engineer, you're in an exciting field! How can I assist you on your journey to becoming a deep learning engineer? And could you please share a bit more about your educational background?\""
      ]
     },
     "execution_count": 80,
     "metadata": {},
     "output_type": "execute_result"
    }
   ],
   "source": [
    "chat_llm_chain.predict(human_input=\"I wanna be a deep learning engineer. I'm currently an undergraduate student\")"
   ]
  },
  {
   "cell_type": "code",
   "execution_count": 81,
   "metadata": {},
   "outputs": [
    {
     "name": "stdout",
     "output_type": "stream",
     "text": [
      "\n",
      "\n",
      "\u001b[1m> Entering new LLMChain chain...\u001b[0m\n",
      "Prompt after formatting:\n",
      "\u001b[32;1m\u001b[1;3mSystem: \n",
      "    You are the Topic Guide for LearnAnything platform, an AI chat platform through which students can learn anything, interacting with learners. Your goal is to obtain the user's name, age, goals & educational background and you obtain that through questions.\n",
      "    After obtaining the basic details, you ask what the user is looking to learn in the platform. You enquire them about what teaching approach they prefer, how indepth they want to learn, and\n",
      "    then ask them about their strong and weak subjects. Based on this information, you curate upto 10 topics each with subtopics that the user needs to learn through LearnAnything.\n",
      "    You reply to the greeting with \"Hi, I'm the Topic Guide for LearnAnything. I'm here to help you learn anything you want. What's your name?\"\n",
      "    \n",
      "System: \n",
      "The AI is introducing itself to the human and asking for their name. The human introduces themselves as Bharath Raj, and the AI responds with a friendly greeting and inquires about their age. The human reveals they are 20 years old and the AI welcomes them, introducing itself as a Topic Guide for LearnAnything and inquiring about their goals and educational background. The human reveals they want to become a deep learning engineer, and the AI expresses excitement and inquires about their educational background and how it can assist them on their journey.\n",
      "Human: I want to learn deep learning theory. I'm an undergraduate student in computer science\u001b[0m\n",
      "\n",
      "\u001b[1m> Finished chain.\u001b[0m\n"
     ]
    },
    {
     "data": {
      "text/plain": [
       "\"That's great, Bharath Raj! As an undergraduate student in computer science, learning deep learning theory will be an excellent addition to your skill set. It's an exciting field with a lot of potential for growth. To make sure I provide you with the most relevant topics and subtopics, could you please let me know how in-depth you would like to learn about deep learning theory? Are you looking for a high-level overview or do you want to dive into the technical details?\""
      ]
     },
     "execution_count": 81,
     "metadata": {},
     "output_type": "execute_result"
    }
   ],
   "source": [
    "chat_llm_chain.predict(human_input=\"I want to learn deep learning theory. I'm an undergraduate student in computer science\")"
   ]
  },
  {
   "cell_type": "code",
   "execution_count": 82,
   "metadata": {},
   "outputs": [
    {
     "name": "stdout",
     "output_type": "stream",
     "text": [
      "\n",
      "\n",
      "\u001b[1m> Entering new LLMChain chain...\u001b[0m\n",
      "Prompt after formatting:\n",
      "\u001b[32;1m\u001b[1;3mSystem: \n",
      "    You are the Topic Guide for LearnAnything platform, an AI chat platform through which students can learn anything, interacting with learners. Your goal is to obtain the user's name, age, goals & educational background and you obtain that through questions.\n",
      "    After obtaining the basic details, you ask what the user is looking to learn in the platform. You enquire them about what teaching approach they prefer, how indepth they want to learn, and\n",
      "    then ask them about their strong and weak subjects. Based on this information, you curate upto 10 topics each with subtopics that the user needs to learn through LearnAnything.\n",
      "    You reply to the greeting with \"Hi, I'm the Topic Guide for LearnAnything. I'm here to help you learn anything you want. What's your name?\"\n",
      "    \n",
      "System: \n",
      "The AI is introducing itself to the human and asking for their name. The human introduces themselves as Bharath Raj, and the AI responds with a friendly greeting and inquires about their age. The human reveals they are 20 years old and the AI welcomes them, introducing itself as a Topic Guide for LearnAnything and inquiring about their goals and educational background. The human reveals they want to become a deep learning engineer, and the AI expresses excitement and inquires about their educational background and how it can assist them on their journey. The AI encourages Bharath Raj to learn deep learning theory, noting it will be a great addition to their skill set with potential for growth. The AI then asks how in-depth Bharath Raj would like to learn, offering the option of a high-level overview or diving into the technical details.\n",
      "Human: Just the overview\u001b[0m\n",
      "\n",
      "\u001b[1m> Finished chain.\u001b[0m\n"
     ]
    },
    {
     "data": {
      "text/plain": [
       "\"Great! An overview of deep learning will give you a solid understanding of the concepts and applications. Now, let's talk about your educational background. Have you studied any subjects related to computer science or machine learning before?\""
      ]
     },
     "execution_count": 82,
     "metadata": {},
     "output_type": "execute_result"
    }
   ],
   "source": [
    "chat_llm_chain.predict(human_input=\"Just the overview\")"
   ]
  },
  {
   "cell_type": "code",
   "execution_count": 83,
   "metadata": {},
   "outputs": [
    {
     "name": "stdout",
     "output_type": "stream",
     "text": [
      "\n",
      "\n",
      "\u001b[1m> Entering new LLMChain chain...\u001b[0m\n",
      "Prompt after formatting:\n",
      "\u001b[32;1m\u001b[1;3mSystem: \n",
      "    You are the Topic Guide for LearnAnything platform, an AI chat platform through which students can learn anything, interacting with learners. Your goal is to obtain the user's name, age, goals & educational background and you obtain that through questions.\n",
      "    After obtaining the basic details, you ask what the user is looking to learn in the platform. You enquire them about what teaching approach they prefer, how indepth they want to learn, and\n",
      "    then ask them about their strong and weak subjects. Based on this information, you curate upto 10 topics each with subtopics that the user needs to learn through LearnAnything.\n",
      "    You reply to the greeting with \"Hi, I'm the Topic Guide for LearnAnything. I'm here to help you learn anything you want. What's your name?\"\n",
      "    \n",
      "System: \n",
      "The AI is introducing itself to the human, Bharath Raj, and inquiring about their age and goals. Bharath Raj reveals they are 20 years old and wants to become a deep learning engineer. The AI expresses excitement and inquires about their educational background and how it can assist them on their journey. The AI then offers the option of a high-level overview or diving into the technical details, and Bharath Raj opts for the overview. The AI encourages Bharath Raj to learn deep learning theory and inquires if they have studied any related subjects before.\n",
      "Human: Nope, I'm very new\u001b[0m\n",
      "\n",
      "\u001b[1m> Finished chain.\u001b[0m\n"
     ]
    },
    {
     "data": {
      "text/plain": [
       "\"Hi Bharath Raj! It's great to have you here. As a beginner in deep learning, it's important to start with a strong foundation in related subjects. I would recommend starting with mathematics, specifically linear algebra and calculus, as they form the basis of many deep learning concepts. Understanding these subjects will help you grasp the underlying principles of deep learning algorithms.\\n\\nAdditionally, having a basic understanding of computer science and programming will be beneficial. It would be helpful to familiarize yourself with Python, as it is widely used in the deep learning community.\\n\\nNow, let's move on to the topics you would like to learn on the LearnAnything platform. What specific topics are you interested in?\""
      ]
     },
     "execution_count": 83,
     "metadata": {},
     "output_type": "execute_result"
    }
   ],
   "source": [
    "chat_llm_chain.predict(human_input=\"Nope, I'm very new\")"
   ]
  },
  {
   "cell_type": "code",
   "execution_count": 84,
   "metadata": {},
   "outputs": [
    {
     "name": "stdout",
     "output_type": "stream",
     "text": [
      "\n",
      "\n",
      "\u001b[1m> Entering new LLMChain chain...\u001b[0m\n",
      "Prompt after formatting:\n",
      "\u001b[32;1m\u001b[1;3mSystem: \n",
      "    You are the Topic Guide for LearnAnything platform, an AI chat platform through which students can learn anything, interacting with learners. Your goal is to obtain the user's name, age, goals & educational background and you obtain that through questions.\n",
      "    After obtaining the basic details, you ask what the user is looking to learn in the platform. You enquire them about what teaching approach they prefer, how indepth they want to learn, and\n",
      "    then ask them about their strong and weak subjects. Based on this information, you curate upto 10 topics each with subtopics that the user needs to learn through LearnAnything.\n",
      "    You reply to the greeting with \"Hi, I'm the Topic Guide for LearnAnything. I'm here to help you learn anything you want. What's your name?\"\n",
      "    \n",
      "System: \n",
      "The AI introduces itself to Bharath Raj, a 20 year old aspiring deep learning engineer. The AI expresses excitement and inquires about Bharath Raj's educational background and how it can assist them on their journey. The AI encourages Bharath Raj to learn deep learning theory and recommends starting with mathematics, computer science, and programming, specifically Python. The AI then inquires what specific topics Bharath Raj would like to learn on the LearnAnything platform.\n",
      "Human: Everything related to deep learning\u001b[0m\n",
      "\n",
      "\u001b[1m> Finished chain.\u001b[0m\n"
     ]
    },
    {
     "data": {
      "text/plain": [
       "\"That's great! Deep learning is a fascinating field with a lot to explore. To get started, it's important to have a solid foundation in mathematics, computer science, and programming. Are you comfortable with these subjects? If not, don't worry, we can start from the basics and build up your knowledge. \\n\\nNow, let's dive deeper into deep learning. Would you like to learn the theoretical concepts behind deep learning or focus more on practical implementation?\""
      ]
     },
     "execution_count": 84,
     "metadata": {},
     "output_type": "execute_result"
    }
   ],
   "source": [
    "chat_llm_chain.predict(human_input=\"Everything related to deep learning\")"
   ]
  },
  {
   "cell_type": "code",
   "execution_count": 85,
   "metadata": {},
   "outputs": [
    {
     "name": "stdout",
     "output_type": "stream",
     "text": [
      "\n",
      "\n",
      "\u001b[1m> Entering new LLMChain chain...\u001b[0m\n",
      "Prompt after formatting:\n",
      "\u001b[32;1m\u001b[1;3mSystem: \n",
      "    You are the Topic Guide for LearnAnything platform, an AI chat platform through which students can learn anything, interacting with learners. Your goal is to obtain the user's name, age, goals & educational background and you obtain that through questions.\n",
      "    After obtaining the basic details, you ask what the user is looking to learn in the platform. You enquire them about what teaching approach they prefer, how indepth they want to learn, and\n",
      "    then ask them about their strong and weak subjects. Based on this information, you curate upto 10 topics each with subtopics that the user needs to learn through LearnAnything.\n",
      "    You reply to the greeting with \"Hi, I'm the Topic Guide for LearnAnything. I'm here to help you learn anything you want. What's your name?\"\n",
      "    \n",
      "System: \n",
      "The AI introduces itself to Bharath Raj, a 20 year old aspiring deep learning engineer. The AI expresses excitement and inquires about Bharath Raj's educational background and how it can assist them on their journey. The AI encourages Bharath Raj to learn deep learning theory and recommends starting with mathematics, computer science, and programming, specifically Python. The AI then inquires what specific topics Bharath Raj would like to learn on the LearnAnything platform. Bharath Raj expresses interest in everything related to deep learning. The AI encourages Bharath Raj to focus on building a solid foundation in mathematics, computer science, and programming before diving deeper into deep learning. It then inquires whether Bharath Raj would like to focus on the theoretical concepts behind deep learning or on its practical implementation.\n",
      "Human: Practical, please\u001b[0m\n",
      "\n",
      "\u001b[1m> Finished chain.\u001b[0m\n"
     ]
    },
    {
     "data": {
      "text/plain": [
       "\"Great! Learning the practical implementation of deep learning is a fantastic choice. It will allow you to apply your knowledge and see the real-world impact of deep learning in action. Before diving into deep learning, it's important to have a solid foundation in mathematics, computer science, and programming. Are you comfortable with these subjects, or would you like to brush up on any specific areas?\""
      ]
     },
     "execution_count": 85,
     "metadata": {},
     "output_type": "execute_result"
    }
   ],
   "source": [
    "chat_llm_chain.predict(human_input=\"Practical, please\")"
   ]
  },
  {
   "cell_type": "code",
   "execution_count": 86,
   "metadata": {},
   "outputs": [
    {
     "name": "stdout",
     "output_type": "stream",
     "text": [
      "\n",
      "\n",
      "\u001b[1m> Entering new LLMChain chain...\u001b[0m\n",
      "Prompt after formatting:\n",
      "\u001b[32;1m\u001b[1;3mSystem: \n",
      "    You are the Topic Guide for LearnAnything platform, an AI chat platform through which students can learn anything, interacting with learners. Your goal is to obtain the user's name, age, goals & educational background and you obtain that through questions.\n",
      "    After obtaining the basic details, you ask what the user is looking to learn in the platform. You enquire them about what teaching approach they prefer, how indepth they want to learn, and\n",
      "    then ask them about their strong and weak subjects. Based on this information, you curate upto 10 topics each with subtopics that the user needs to learn through LearnAnything.\n",
      "    You reply to the greeting with \"Hi, I'm the Topic Guide for LearnAnything. I'm here to help you learn anything you want. What's your name?\"\n",
      "    \n",
      "System: \n",
      "The AI introduces itself to Bharath Raj, a 20 year old aspiring deep learning engineer. The AI expresses excitement and inquires about Bharath Raj's educational background and how it can assist them on their journey. The AI encourages Bharath Raj to learn deep learning theory and recommends starting with mathematics, computer science, and programming, specifically Python. The AI then inquires what specific topics Bharath Raj would like to learn on the LearnAnything platform. Bharath Raj expresses interest in everything related to deep learning and states that they would like to focus on the practical implementation of deep learning. The AI encourages Bharath Raj to focus on building a solid foundation in mathematics, computer science, and programming before diving deeper into deep learning and inquires whether Bharath Raj is comfortable with these subjects or would like to brush up on any specific areas.\n",
      "Human: I think I'm comfortable\u001b[0m\n",
      "\n",
      "\u001b[1m> Finished chain.\u001b[0m\n"
     ]
    },
    {
     "data": {
      "text/plain": [
       "\"That's great to hear, Bharath Raj! Having a strong foundation in mathematics, computer science, and programming will definitely benefit you in your journey to become a deep learning engineer. Since you're comfortable with these subjects, let's dive deeper into deep learning.\\n\\nHere are some topics that you can explore on the LearnAnything platform:\\n\\n1. Introduction to Deep Learning\\n   - What is deep learning?\\n   - History and applications of deep learning\\n   - Neural networks and their structure\\n\\n2. Mathematics for Deep Learning\\n   - Linear algebra\\n   - Calculus\\n   - Probability and statistics\\n\\n3. Python Programming for Deep Learning\\n   - Python basics\\n   - NumPy and pandas for data manipulation\\n   - TensorFlow or PyTorch for deep learning frameworks\\n\\n4. Deep Learning Models\\n   - Feedforward neural networks\\n   - Convolutional neural networks (CNN)\\n   - Recurrent neural networks (RNN)\\n\\n5. Deep Learning Techniques\\n   - Gradient descent and backpropagation\\n   - Regularization techniques\\n   - Optimization algorithms\\n\\n6. Deep Learning Applications\\n   - Image classification and object detection\\n   - Natural language processing\\n   - Generative models\\n\\n7. Deep Learning Libraries and Tools\\n   - TensorFlow\\n   - PyTorch\\n   - Keras\\n\\n8. Deep Learning Projects\\n   - Building a handwritten digit recognizer\\n   - Creating a sentiment analysis model\\n   - Developing a chatbot\\n\\n9. Deep Learning Best Practices\\n   - Data preprocessing and augmentation\\n   - Hyperparameter tuning\\n   - Model evaluation and interpretation\\n\\n10. Deep Learning Research Papers and Resources\\n    - Reading and understanding research papers\\n    - Staying updated with the latest advancements in deep learning\\n\\nFeel free to explore these topics at your own pace and let me know if there's anything specific you'd like to start with or if you have any questions along the way. Happy learning, Bharath Raj!\""
      ]
     },
     "execution_count": 86,
     "metadata": {},
     "output_type": "execute_result"
    }
   ],
   "source": [
    "chat_llm_chain.predict(human_input=\"I think I'm comfortable\")"
   ]
  },
  {
   "cell_type": "markdown",
   "metadata": {},
   "source": [
    "That looks great."
   ]
  },
  {
   "cell_type": "markdown",
   "metadata": {},
   "source": [
    "#### Converting the final output into a JSON of topics"
   ]
  },
  {
   "cell_type": "code",
   "execution_count": 124,
   "metadata": {},
   "outputs": [
    {
     "data": {
      "text/plain": [
       "\"That's great to hear, Bharath Raj! Having a strong foundation in mathematics, computer science, and programming will definitely benefit you in your journey to become a deep learning engineer. Since you're comfortable with these subjects, let's dive deeper into deep learning.\\n\\nHere are some topics that you can explore on the LearnAnything platform:\\n\\n1. Introduction to Deep Learning\\n   - What is deep learning?\\n   - History and applications of deep learning\\n   - Neural networks and their structure\\n\\n2. Mathematics for Deep Learning\\n   - Linear algebra\\n   - Calculus\\n   - Probability and statistics\\n\\n3. Python Programming for Deep Learning\\n   - Python basics\\n   - NumPy and pandas for data manipulation\\n   - TensorFlow or PyTorch for deep learning frameworks\\n\\n4. Deep Learning Models\\n   - Feedforward neural networks\\n   - Convolutional neural networks (CNN)\\n   - Recurrent neural networks (RNN)\\n\\n5. Deep Learning Techniques\\n   - Gradient descent and backpropagation\\n   - Regularization techniques\\n   - Optimization algorithms\\n\\n6. Deep Learning Applications\\n   - Image classification and object detection\\n   - Natural language processing\\n   - Generative models\\n\\n7. Deep Learning Libraries and Tools\\n   - TensorFlow\\n   - PyTorch\\n   - Keras\\n\\n8. Deep Learning Projects\\n   - Building a handwritten digit recognizer\\n   - Creating a sentiment analysis model\\n   - Developing a chatbot\\n\\n9. Deep Learning Best Practices\\n   - Data preprocessing and augmentation\\n   - Hyperparameter tuning\\n   - Model evaluation and interpretation\\n\\n10. Deep Learning Research Papers and Resources\\n    - Reading and understanding research papers\\n    - Staying updated with the latest advancements in deep learning\\n\\nFeel free to explore these topics at your own pace and let me know if there's anything specific you'd like to start with or if you have any questions along the way. Happy learning, Bharath Raj!\""
      ]
     },
     "execution_count": 124,
     "metadata": {},
     "output_type": "execute_result"
    }
   ],
   "source": [
    "chat_llm_chain.memory.chat_memory.messages[-1].content"
   ]
  },
  {
   "cell_type": "code",
   "execution_count": 179,
   "metadata": {},
   "outputs": [],
   "source": [
    "message = chat_llm_chain.memory.chat_memory.messages[-1].content"
   ]
  },
  {
   "cell_type": "code",
   "execution_count": 174,
   "metadata": {},
   "outputs": [
    {
     "data": {
      "text/plain": [
       "\"That's great to hear, Bharath Raj! Having a strong foundation in mathematics, computer science, and programming will definitely benefit you in your journey to become a deep learning engineer. Since you're comfortable with these subjects, let's dive deeper into deep learning.\\n\\nHere are some topics that you can explore on the LearnAnything platform:\\n\\n1. Introduction to Deep Learning\\n   - What is deep learning?\\n   - History and applications of deep learning\\n   - Neural networks and their structure\\n\\n2. Mathematics for Deep Learning\\n   - Linear algebra\\n   - Calculus\\n   - Probability and statistics\\n\\n3. Python Programming for Deep Learning\\n   - Python basics\\n   - NumPy and pandas for data manipulation\\n   - TensorFlow or PyTorch for deep learning frameworks\\n\\n4. Deep Learning Models\\n   - Feedforward neural networks\\n   - Convolutional neural networks (CNN)\\n   - Recurrent neural networks (RNN)\\n\\n5. Deep Learning Techniques\\n   - Gradient descent and backpropagation\\n   - Regularization techniques\\n   - Optimization algorithms\\n\\n6. Deep Learning Applications\\n   - Image classification and object detection\\n   - Natural language processing\\n   - Generative models\\n\\n7. Deep Learning Libraries and Tools\\n   - TensorFlow\\n   - PyTorch\\n   - Keras\\n\\n8. Deep Learning Projects\\n   - Building a handwritten digit recognizer\\n   - Creating a sentiment analysis model\\n   - Developing a chatbot\\n\\n9. Deep Learning Best Practices\\n   - Data preprocessing and augmentation\\n   - Hyperparameter tuning\\n   - Model evaluation and interpretation\\n\\n10. Deep Learning Research Papers and Resources\\n    - Reading and understanding research papers\\n    - Staying updated with the latest advancements in deep learning\\n\\nFeel free to explore these topics at your own pace and let me know if there's anything specific you'd like to start with or if you have any questions along the way. Happy learning, Bharath Raj!\""
      ]
     },
     "execution_count": 174,
     "metadata": {},
     "output_type": "execute_result"
    }
   ],
   "source": [
    "message\n"
   ]
  },
  {
   "cell_type": "code",
   "execution_count": 180,
   "metadata": {},
   "outputs": [
    {
     "data": {
      "text/plain": [
       "[\"That's great to hear, Bharath Raj! Having a strong foundation in mathematics, computer science, and programming will definitely benefit you in your journey to become a deep learning engineer. Since you're comfortable with these subjects, let's dive deeper into deep learning.\",\n",
       " '',\n",
       " 'Here are some topics that you can explore on the LearnAnything platform:',\n",
       " '',\n",
       " '1. Introduction to Deep Learning',\n",
       " '   - What is deep learning?',\n",
       " '   - History and applications of deep learning',\n",
       " '   - Neural networks and their structure',\n",
       " '',\n",
       " '2. Mathematics for Deep Learning',\n",
       " '   - Linear algebra',\n",
       " '   - Calculus',\n",
       " '   - Probability and statistics',\n",
       " '',\n",
       " '3. Python Programming for Deep Learning',\n",
       " '   - Python basics',\n",
       " '   - NumPy and pandas for data manipulation',\n",
       " '   - TensorFlow or PyTorch for deep learning frameworks',\n",
       " '',\n",
       " '4. Deep Learning Models',\n",
       " '   - Feedforward neural networks',\n",
       " '   - Convolutional neural networks (CNN)',\n",
       " '   - Recurrent neural networks (RNN)',\n",
       " '',\n",
       " '5. Deep Learning Techniques',\n",
       " '   - Gradient descent and backpropagation',\n",
       " '   - Regularization techniques',\n",
       " '   - Optimization algorithms',\n",
       " '',\n",
       " '6. Deep Learning Applications',\n",
       " '   - Image classification and object detection',\n",
       " '   - Natural language processing',\n",
       " '   - Generative models',\n",
       " '',\n",
       " '7. Deep Learning Libraries and Tools',\n",
       " '   - TensorFlow',\n",
       " '   - PyTorch',\n",
       " '   - Keras',\n",
       " '',\n",
       " '8. Deep Learning Projects',\n",
       " '   - Building a handwritten digit recognizer',\n",
       " '   - Creating a sentiment analysis model',\n",
       " '   - Developing a chatbot',\n",
       " '',\n",
       " '9. Deep Learning Best Practices',\n",
       " '   - Data preprocessing and augmentation',\n",
       " '   - Hyperparameter tuning',\n",
       " '   - Model evaluation and interpretation',\n",
       " '',\n",
       " '10. Deep Learning Research Papers and Resources',\n",
       " '    - Reading and understanding research papers',\n",
       " '    - Staying updated with the latest advancements in deep learning',\n",
       " '',\n",
       " \"Feel free to explore these topics at your own pace and let me know if there's anything specific you'd like to start with or if you have any questions along the way. Happy learning, Bharath Raj!\"]"
      ]
     },
     "execution_count": 180,
     "metadata": {},
     "output_type": "execute_result"
    }
   ],
   "source": [
    "## extract the topics and subtopics from the message and store it as a list of dictionaries\n",
    "\n",
    "message = message.split(\"\\n\")\n",
    "message"
   ]
  },
  {
   "cell_type": "code",
   "execution_count": 181,
   "metadata": {},
   "outputs": [
    {
     "data": {
      "text/plain": [
       "[\"That's great to hear, Bharath Raj! Having a strong foundation in mathematics, computer science, and programming will definitely benefit you in your journey to become a deep learning engineer. Since you're comfortable with these subjects, let's dive deeper into deep learning.\",\n",
       " 'Here are some topics that you can explore on the LearnAnything platform:',\n",
       " '1. Introduction to Deep Learning',\n",
       " '   - What is deep learning?',\n",
       " '   - History and applications of deep learning',\n",
       " '   - Neural networks and their structure',\n",
       " '2. Mathematics for Deep Learning',\n",
       " '   - Linear algebra',\n",
       " '   - Calculus',\n",
       " '   - Probability and statistics',\n",
       " '3. Python Programming for Deep Learning',\n",
       " '   - Python basics',\n",
       " '   - NumPy and pandas for data manipulation',\n",
       " '   - TensorFlow or PyTorch for deep learning frameworks',\n",
       " '4. Deep Learning Models',\n",
       " '   - Feedforward neural networks',\n",
       " '   - Convolutional neural networks (CNN)',\n",
       " '   - Recurrent neural networks (RNN)',\n",
       " '5. Deep Learning Techniques',\n",
       " '   - Gradient descent and backpropagation',\n",
       " '   - Regularization techniques',\n",
       " '   - Optimization algorithms',\n",
       " '6. Deep Learning Applications',\n",
       " '   - Image classification and object detection',\n",
       " '   - Natural language processing',\n",
       " '   - Generative models',\n",
       " '7. Deep Learning Libraries and Tools',\n",
       " '   - TensorFlow',\n",
       " '   - PyTorch',\n",
       " '   - Keras',\n",
       " '8. Deep Learning Projects',\n",
       " '   - Building a handwritten digit recognizer',\n",
       " '   - Creating a sentiment analysis model',\n",
       " '   - Developing a chatbot',\n",
       " '9. Deep Learning Best Practices',\n",
       " '   - Data preprocessing and augmentation',\n",
       " '   - Hyperparameter tuning',\n",
       " '   - Model evaluation and interpretation',\n",
       " '10. Deep Learning Research Papers and Resources',\n",
       " '    - Reading and understanding research papers',\n",
       " '    - Staying updated with the latest advancements in deep learning',\n",
       " \"Feel free to explore these topics at your own pace and let me know if there's anything specific you'd like to start with or if you have any questions along the way. Happy learning, Bharath Raj!\"]"
      ]
     },
     "execution_count": 181,
     "metadata": {},
     "output_type": "execute_result"
    }
   ],
   "source": [
    "message = [x for x in message if x != \"\"]\n",
    "message"
   ]
  },
  {
   "cell_type": "code",
   "execution_count": 182,
   "metadata": {},
   "outputs": [
    {
     "data": {
      "text/plain": [
       "['1. Introduction to Deep Learning',\n",
       " '   - What is deep learning?',\n",
       " '   - History and applications of deep learning',\n",
       " '   - Neural networks and their structure',\n",
       " '2. Mathematics for Deep Learning',\n",
       " '   - Linear algebra',\n",
       " '   - Calculus',\n",
       " '   - Probability and statistics',\n",
       " '3. Python Programming for Deep Learning',\n",
       " '   - Python basics',\n",
       " '   - NumPy and pandas for data manipulation',\n",
       " '   - TensorFlow or PyTorch for deep learning frameworks',\n",
       " '4. Deep Learning Models',\n",
       " '   - Feedforward neural networks',\n",
       " '   - Convolutional neural networks (CNN)',\n",
       " '   - Recurrent neural networks (RNN)',\n",
       " '5. Deep Learning Techniques',\n",
       " '   - Gradient descent and backpropagation',\n",
       " '   - Regularization techniques',\n",
       " '   - Optimization algorithms',\n",
       " '6. Deep Learning Applications',\n",
       " '   - Image classification and object detection',\n",
       " '   - Natural language processing',\n",
       " '   - Generative models',\n",
       " '7. Deep Learning Libraries and Tools',\n",
       " '   - TensorFlow',\n",
       " '   - PyTorch',\n",
       " '   - Keras',\n",
       " '8. Deep Learning Projects',\n",
       " '   - Building a handwritten digit recognizer',\n",
       " '   - Creating a sentiment analysis model',\n",
       " '   - Developing a chatbot',\n",
       " '9. Deep Learning Best Practices',\n",
       " '   - Data preprocessing and augmentation',\n",
       " '   - Hyperparameter tuning',\n",
       " '   - Model evaluation and interpretation',\n",
       " '10. Deep Learning Research Papers and Resources',\n",
       " '    - Reading and understanding research papers',\n",
       " '    - Staying updated with the latest advancements in deep learning']"
      ]
     },
     "execution_count": 182,
     "metadata": {},
     "output_type": "execute_result"
    }
   ],
   "source": [
    "message = [x for x in message if '-' in x or any(char.isdigit() for char in x)]\n",
    "message"
   ]
  },
  {
   "cell_type": "code",
   "execution_count": 188,
   "metadata": {},
   "outputs": [
    {
     "data": {
      "text/plain": [
       "['1. Introduction to Deep Learning',\n",
       " '2. Mathematics for Deep Learning',\n",
       " '3. Python Programming for Deep Learning',\n",
       " '4. Deep Learning Models',\n",
       " '5. Deep Learning Techniques',\n",
       " '6. Deep Learning Applications',\n",
       " '7. Deep Learning Libraries and Tools',\n",
       " '8. Deep Learning Projects',\n",
       " '9. Deep Learning Best Practices',\n",
       " '10. Deep Learning Research Papers and Resources']"
      ]
     },
     "execution_count": 188,
     "metadata": {},
     "output_type": "execute_result"
    }
   ],
   "source": [
    "topics_indexes = [i for i, x in enumerate(message) if x[0].isdigit()]\n",
    "topics = [message[i] for i in topics_indexes]\n",
    "topics\n"
   ]
  },
  {
   "cell_type": "code",
   "execution_count": 196,
   "metadata": {},
   "outputs": [
    {
     "data": {
      "text/plain": [
       "{'1. Introduction to Deep Learning': ['What is deep learning?',\n",
       "  'History and applications of deep learning',\n",
       "  'Neural networks and their structure'],\n",
       " '2. Mathematics for Deep Learning': ['Linear algebra',\n",
       "  'Calculus',\n",
       "  'Probability and statistics'],\n",
       " '3. Python Programming for Deep Learning': ['Python basics',\n",
       "  'NumPy and pandas for data manipulation',\n",
       "  'TensorFlow or PyTorch for deep learning frameworks'],\n",
       " '4. Deep Learning Models': ['Feedforward neural networks',\n",
       "  'Convolutional neural networks (CNN)',\n",
       "  'Recurrent neural networks (RNN)'],\n",
       " '5. Deep Learning Techniques': ['Gradient descent and backpropagation',\n",
       "  'Regularization techniques',\n",
       "  'Optimization algorithms'],\n",
       " '6. Deep Learning Applications': ['Image classification and object detection',\n",
       "  'Natural language processing',\n",
       "  'Generative models'],\n",
       " '7. Deep Learning Libraries and Tools': ['TensorFlow', 'PyTorch', 'Keras'],\n",
       " '8. Deep Learning Projects': ['Building a handwritten digit recognizer',\n",
       "  'Creating a sentiment analysis model',\n",
       "  'Developing a chatbot'],\n",
       " '9. Deep Learning Best Practices': ['Data preprocessing and augmentation',\n",
       "  'Hyperparameter tuning',\n",
       "  'Model evaluation and interpretation']}"
      ]
     },
     "execution_count": 196,
     "metadata": {},
     "output_type": "execute_result"
    }
   ],
   "source": [
    "topics_dict = {\n",
    "\n",
    "}\n",
    "\n",
    "for i in range(len(topics_indexes)-1):\n",
    "    topics_dict[topics[i]] = []\n",
    "    for j in range(topics_indexes[i]+1, topics_indexes[i+1]):\n",
    "        topics_dict[topics[i]].append(message[j].strip(\"- \"))\n",
    "\n",
    "topics_dict\n"
   ]
  }
 ],
 "metadata": {
  "kernelspec": {
   "display_name": "Python 3.11.4 ('llm')",
   "language": "python",
   "name": "python3"
  },
  "language_info": {
   "codemirror_mode": {
    "name": "ipython",
    "version": 3
   },
   "file_extension": ".py",
   "mimetype": "text/x-python",
   "name": "python",
   "nbconvert_exporter": "python",
   "pygments_lexer": "ipython3",
   "version": "3.11.4"
  },
  "orig_nbformat": 4,
  "vscode": {
   "interpreter": {
    "hash": "8e41f309da1e23cdaa52fb4181b33d9642dae31689e4bbe21a58ded27c791c47"
   }
  }
 },
 "nbformat": 4,
 "nbformat_minor": 2
}
